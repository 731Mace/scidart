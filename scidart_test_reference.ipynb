{
 "cells": [
  {
   "cell_type": "markdown",
   "metadata": {},
   "source": [
    "FFT tests"
   ]
  },
  {
   "cell_type": "code",
   "execution_count": 2,
   "metadata": {},
   "outputs": [
    {
     "name": "stdout",
     "output_type": "stream",
     "text": [
      "[4.+0.j         1.-2.41421356j 0.-0.j         1.-0.41421356j\n",
      " 0.+0.j         1.+0.41421356j 0.+0.j         1.+2.41421356j]\n",
      "[1.00000000e+00+0.00000000e+00j 9.99999999e-01-5.55111512e-17j\n",
      " 1.00000000e+00+0.00000000e+00j 9.99999999e-01-5.55111512e-17j\n",
      " 0.00000000e+00+0.00000000e+00j 8.39015857e-10+5.55111512e-17j\n",
      " 0.00000000e+00+0.00000000e+00j 8.39015857e-10+5.55111512e-17j]\n",
      "[1.00000000e+00 9.99999999e-01 1.00000000e+00 9.99999999e-01\n",
      " 0.00000000e+00 8.39015857e-10 0.00000000e+00 8.39015857e-10]\n"
     ]
    }
   ],
   "source": [
    "from scipy.fftpack import fft, ifft\n",
    "print(fft([1.0, 1.0, 1.0, 1.0, 0.0, 0.0, 0.0, 0.0]))\n",
    "print(ifft([4.+0.j, 1.-2.41421356j, 0.-0.j, 1.-0.41421356j, 0.+0.j, 1.+0.41421356j, 0.+0.j, 1.+2.41421356j]))\n",
    "\n",
    "print(abs(ifft([4.+0.j, 1.-2.41421356j, 0.-0.j, 1.-0.41421356j, 0.+0.j, 1.+0.41421356j, 0.+0.j, 1.+2.41421356j])))"
   ]
  },
  {
   "cell_type": "markdown",
   "metadata": {},
   "source": [
    "Numpy tests"
   ]
  },
  {
   "cell_type": "code",
   "execution_count": 1,
   "metadata": {},
   "outputs": [
    {
     "name": "stdout",
     "output_type": "stream",
     "text": [
      "50\n",
      "50\n"
     ]
    },
    {
     "data": {
      "text/plain": [
       "array([0., 0., 0.])"
      ]
     },
     "execution_count": 1,
     "metadata": {},
     "output_type": "execute_result"
    }
   ],
   "source": [
    "import numpy as np\n",
    "n = np.linspace(1.2,3)\n",
    "print(len(n))\n",
    "n\n",
    "\n",
    "n = np.linspace(1.2,3, endpoint=False)\n",
    "print(len(n))\n",
    "n\n",
    "\n",
    "n = np.linspace(1.2,3, num=3)\n",
    "n\n",
    "\n",
    "n = np.linspace(1.2,3, num=3, endpoint=False)\n",
    "n\n",
    "\n",
    "np.zeros(3)"
   ]
  },
  {
   "cell_type": "markdown",
   "metadata": {},
   "source": [
    "Windowtests"
   ]
  },
  {
   "cell_type": "code",
   "execution_count": 8,
   "metadata": {},
   "outputs": [
    {
     "name": "stdout",
     "output_type": "stream",
     "text": [
      "[0.         0.11697778 0.41317591 0.75       0.96984631 0.96984631\n",
      " 0.75       0.41317591 0.11697778 0.        ]\n",
      "10\n",
      "[0.        0.0954915 0.3454915 0.6545085 0.9045085 1.        0.9045085\n",
      " 0.6545085 0.3454915 0.0954915]\n",
      "10\n"
     ]
    }
   ],
   "source": [
    "from scipy import signal\n",
    "w = signal.hann(10)\n",
    "print(w)\n",
    "print(len(w))\n",
    "\n",
    "w2 = signal.hann(10, False)\n",
    "print(w2)\n",
    "print(len(w2))"
   ]
  },
  {
   "cell_type": "code",
   "execution_count": 9,
   "metadata": {},
   "outputs": [
    {
     "name": "stdout",
     "output_type": "stream",
     "text": [
      "[1, 2]\n"
     ]
    }
   ],
   "source": [
    "w = [1,2,3]\n",
    "print(w[:-1])"
   ]
  },
  {
   "cell_type": "code",
   "execution_count": 11,
   "metadata": {},
   "outputs": [
    {
     "name": "stdout",
     "output_type": "stream",
     "text": [
      "[0.08       0.18761956 0.46012184 0.77       0.97225861 0.97225861\n",
      " 0.77       0.46012184 0.18761956 0.08      ]\n",
      "10\n",
      "[0.08       0.16785218 0.39785218 0.68214782 0.91214782 1.\n",
      " 0.91214782 0.68214782 0.39785218 0.16785218]\n",
      "10\n"
     ]
    }
   ],
   "source": [
    "from scipy import signal\n",
    "w = signal.hamming(10)\n",
    "print(w)\n",
    "print(len(w))\n",
    "\n",
    "w2 = signal.hamming(10, False)\n",
    "print(w2)\n",
    "print(len(w2))"
   ]
  },
  {
   "cell_type": "code",
   "execution_count": 1,
   "metadata": {},
   "outputs": [
    {
     "name": "stdout",
     "output_type": "stream",
     "text": [
      "[-1.38777878e-17  5.08696327e-02  2.58000502e-01  6.30000000e-01\n",
      "  9.51129866e-01  9.51129866e-01  6.30000000e-01  2.58000502e-01\n",
      "  5.08696327e-02 -1.38777878e-17]\n",
      "10\n",
      "[-1.38777878e-17  4.02128624e-02  2.00770143e-01  5.09787138e-01\n",
      "  8.49229857e-01  1.00000000e+00  8.49229857e-01  5.09787138e-01\n",
      "  2.00770143e-01  4.02128624e-02]\n",
      "10\n"
     ]
    }
   ],
   "source": [
    "from scipy import signal\n",
    "w = signal.blackman(10)\n",
    "print(w)\n",
    "print(len(w))\n",
    "\n",
    "w2 = signal.blackman(10, False)\n",
    "print(w2)\n",
    "print(len(w2))"
   ]
  },
  {
   "cell_type": "code",
   "execution_count": 3,
   "metadata": {},
   "outputs": [
    {
     "name": "stdout",
     "output_type": "stream",
     "text": [
      "[6.00000000e-05 1.50711734e-02 1.47039558e-01 5.20575000e-01\n",
      " 9.31659269e-01 9.31659269e-01 5.20575000e-01 1.47039558e-01\n",
      " 1.50711734e-02 6.00000000e-05]\n",
      "10\n",
      "[6.00000000e-05 1.09823313e-02 1.03011489e-01 3.85892669e-01\n",
      " 7.93833511e-01 1.00000000e+00 7.93833511e-01 3.85892669e-01\n",
      " 1.03011489e-01 1.09823313e-02]\n",
      "10\n"
     ]
    }
   ],
   "source": [
    "from scipy import signal\n",
    "w = signal.blackmanharris(10)\n",
    "print(w)\n",
    "print(len(w))\n",
    "\n",
    "w2 = signal.blackmanharris(10, False)\n",
    "print(w2)\n",
    "print(len(w2))"
   ]
  },
  {
   "cell_type": "code",
   "execution_count": 5,
   "metadata": {},
   "outputs": [
    {
     "name": "stdout",
     "output_type": "stream",
     "text": [
      "[-4.21051000e-04 -2.01720315e-02 -7.01990421e-02  1.98210530e-01\n",
      "  8.62476344e-01  8.62476344e-01  1.98210530e-01 -7.01990421e-02\n",
      " -2.01720315e-02 -4.21051000e-04]\n",
      "10\n",
      "[-4.21051000e-04 -1.55972747e-02 -6.77142521e-02  5.45446482e-02\n",
      "  6.06872153e-01  1.00000000e+00  6.06872153e-01  5.45446482e-02\n",
      " -6.77142521e-02 -1.55972747e-02]\n",
      "10\n"
     ]
    }
   ],
   "source": [
    "from scipy import signal\n",
    "w = signal.flattop(10)\n",
    "print(w)\n",
    "print(len(w))\n",
    "\n",
    "w2 = signal.flattop(10, False)\n",
    "print(w2)\n",
    "print(len(w2))"
   ]
  },
  {
   "cell_type": "code",
   "execution_count": 6,
   "metadata": {},
   "outputs": [
    {
     "name": "stdout",
     "output_type": "stream",
     "text": [
      "[0.08       0.18761956 0.46012184 0.77       0.97225861 0.97225861\n",
      " 0.77       0.46012184 0.18761956 0.08      ]\n",
      "10\n",
      "[0.08       0.16785218 0.39785218 0.68214782 0.91214782 1.\n",
      " 0.91214782 0.68214782 0.39785218 0.16785218]\n",
      "10\n"
     ]
    }
   ],
   "source": [
    "from scipy import signal\n",
    "w = signal.hamming(10)\n",
    "print(w)\n",
    "print(len(w))\n",
    "\n",
    "w2 = signal.hamming(10, False)\n",
    "print(w2)\n",
    "print(len(w2))"
   ]
  },
  {
   "cell_type": "code",
   "execution_count": 7,
   "metadata": {},
   "outputs": [
    {
     "name": "stdout",
     "output_type": "stream",
     "text": [
      "[3.62800000e-04 1.78909987e-02 1.55596126e-01 5.29229800e-01\n",
      " 9.33220225e-01 9.33220225e-01 5.29229800e-01 1.55596126e-01\n",
      " 1.78909987e-02 3.62800000e-04]\n",
      "10\n",
      "[3.62800000e-04 1.33288369e-02 1.10515253e-01 3.95625913e-01\n",
      " 7.98258097e-01 1.00000000e+00 7.98258097e-01 3.95625913e-01\n",
      " 1.10515253e-01 1.33288369e-02]\n",
      "10\n"
     ]
    }
   ],
   "source": [
    "from scipy import signal\n",
    "w = signal.nuttall(10)\n",
    "print(w)\n",
    "print(len(w))\n",
    "\n",
    "w2 = signal.nuttall(10, False)\n",
    "print(w2)\n",
    "print(len(w2))"
   ]
  },
  {
   "cell_type": "code",
   "execution_count": null,
   "metadata": {},
   "outputs": [],
   "source": []
  }
 ],
 "metadata": {
  "kernelspec": {
   "display_name": "Python 3",
   "language": "python",
   "name": "python3"
  },
  "language_info": {
   "codemirror_mode": {
    "name": "ipython",
    "version": 3
   },
   "file_extension": ".py",
   "mimetype": "text/x-python",
   "name": "python",
   "nbconvert_exporter": "python",
   "pygments_lexer": "ipython3",
   "version": "3.7.3"
  }
 },
 "nbformat": 4,
 "nbformat_minor": 2
}
