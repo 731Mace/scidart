{
 "cells": [
  {
   "cell_type": "markdown",
   "metadata": {},
   "source": [
    "FFT tests"
   ]
  },
  {
   "cell_type": "code",
   "execution_count": 26,
   "metadata": {},
   "outputs": [
    {
     "name": "stdout",
     "output_type": "stream",
     "text": [
      "[4. +0.j         0.5-2.19064313j 0.5+0.24078731j 0.5-0.62698017j\n",
      " 0.5+0.62698017j 0.5-0.24078731j 0.5+2.19064313j]\n",
      "[1.00000000e+00+0.00000000e+00j 9.99999999e-01-5.55111512e-17j\n",
      " 1.00000000e+00+0.00000000e+00j 9.99999999e-01-5.55111512e-17j\n",
      " 0.00000000e+00+0.00000000e+00j 8.39015857e-10+5.55111512e-17j\n",
      " 0.00000000e+00+0.00000000e+00j 8.39015857e-10+5.55111512e-17j]\n",
      "[1.00000000e+00 9.99999999e-01 1.00000000e+00 9.99999999e-01\n",
      " 0.00000000e+00 8.39015857e-10 0.00000000e+00 8.39015857e-10]\n"
     ]
    }
   ],
   "source": [
    "from scipy.fftpack import fft, ifft\n",
    "print(fft([1.0, 1.0, 1.0, 1.0, 0.0, 0.0, 0.0]))\n",
    "print(ifft([4.+0.j, 1.-2.41421356j, 0.-0.j, 1.-0.41421356j, 0.+0.j, 1.+0.41421356j, 0.+0.j, 1.+2.41421356j]))\n",
    "\n",
    "print(abs(ifft([4.+0.j, 1.-2.41421356j, 0.-0.j, 1.-0.41421356j, 0.+0.j, 1.+0.41421356j, 0.+0.j, 1.+2.41421356j])))"
   ]
  },
  {
   "cell_type": "markdown",
   "metadata": {},
   "source": [
    "Numpy tests"
   ]
  },
  {
   "cell_type": "code",
   "execution_count": 1,
   "metadata": {},
   "outputs": [
    {
     "name": "stdout",
     "output_type": "stream",
     "text": [
      "50\n",
      "50\n"
     ]
    },
    {
     "data": {
      "text/plain": [
       "array([0., 0., 0.])"
      ]
     },
     "execution_count": 1,
     "metadata": {},
     "output_type": "execute_result"
    }
   ],
   "source": [
    "import numpy as np\n",
    "n = np.linspace(1.2,3)\n",
    "print(len(n))\n",
    "n\n",
    "\n",
    "n = np.linspace(1.2,3, endpoint=False)\n",
    "print(len(n))\n",
    "n\n",
    "\n",
    "n = np.linspace(1.2,3, num=3)\n",
    "n\n",
    "\n",
    "n = np.linspace(1.2,3, num=3, endpoint=False)\n",
    "n\n",
    "\n",
    "np.zeros(3)"
   ]
  },
  {
   "cell_type": "markdown",
   "metadata": {},
   "source": [
    "Windowtests"
   ]
  },
  {
   "cell_type": "code",
   "execution_count": 8,
   "metadata": {},
   "outputs": [
    {
     "name": "stdout",
     "output_type": "stream",
     "text": [
      "[0.         0.11697778 0.41317591 0.75       0.96984631 0.96984631\n",
      " 0.75       0.41317591 0.11697778 0.        ]\n",
      "10\n",
      "[0.        0.0954915 0.3454915 0.6545085 0.9045085 1.        0.9045085\n",
      " 0.6545085 0.3454915 0.0954915]\n",
      "10\n"
     ]
    }
   ],
   "source": [
    "from scipy import signal\n",
    "w = signal.hann(10)\n",
    "print(w)\n",
    "print(len(w))\n",
    "\n",
    "w2 = signal.hann(10, False)\n",
    "print(w2)\n",
    "print(len(w2))"
   ]
  },
  {
   "cell_type": "code",
   "execution_count": 9,
   "metadata": {},
   "outputs": [
    {
     "name": "stdout",
     "output_type": "stream",
     "text": [
      "[1, 2]\n"
     ]
    }
   ],
   "source": [
    "w = [1,2,3]\n",
    "print(w[:-1])"
   ]
  },
  {
   "cell_type": "code",
   "execution_count": 11,
   "metadata": {},
   "outputs": [
    {
     "name": "stdout",
     "output_type": "stream",
     "text": [
      "[0.08       0.18761956 0.46012184 0.77       0.97225861 0.97225861\n",
      " 0.77       0.46012184 0.18761956 0.08      ]\n",
      "10\n",
      "[0.08       0.16785218 0.39785218 0.68214782 0.91214782 1.\n",
      " 0.91214782 0.68214782 0.39785218 0.16785218]\n",
      "10\n"
     ]
    }
   ],
   "source": [
    "from scipy import signal\n",
    "w = signal.hamming(10)\n",
    "print(w)\n",
    "print(len(w))\n",
    "\n",
    "w2 = signal.hamming(10, False)\n",
    "print(w2)\n",
    "print(len(w2))"
   ]
  },
  {
   "cell_type": "code",
   "execution_count": 1,
   "metadata": {},
   "outputs": [
    {
     "name": "stdout",
     "output_type": "stream",
     "text": [
      "[-1.38777878e-17  5.08696327e-02  2.58000502e-01  6.30000000e-01\n",
      "  9.51129866e-01  9.51129866e-01  6.30000000e-01  2.58000502e-01\n",
      "  5.08696327e-02 -1.38777878e-17]\n",
      "10\n",
      "[-1.38777878e-17  4.02128624e-02  2.00770143e-01  5.09787138e-01\n",
      "  8.49229857e-01  1.00000000e+00  8.49229857e-01  5.09787138e-01\n",
      "  2.00770143e-01  4.02128624e-02]\n",
      "10\n"
     ]
    }
   ],
   "source": [
    "from scipy import signal\n",
    "w = signal.blackman(10)\n",
    "print(w)\n",
    "print(len(w))\n",
    "\n",
    "w2 = signal.blackman(10, False)\n",
    "print(w2)\n",
    "print(len(w2))"
   ]
  },
  {
   "cell_type": "code",
   "execution_count": 3,
   "metadata": {},
   "outputs": [
    {
     "name": "stdout",
     "output_type": "stream",
     "text": [
      "[6.00000000e-05 1.50711734e-02 1.47039558e-01 5.20575000e-01\n",
      " 9.31659269e-01 9.31659269e-01 5.20575000e-01 1.47039558e-01\n",
      " 1.50711734e-02 6.00000000e-05]\n",
      "10\n",
      "[6.00000000e-05 1.09823313e-02 1.03011489e-01 3.85892669e-01\n",
      " 7.93833511e-01 1.00000000e+00 7.93833511e-01 3.85892669e-01\n",
      " 1.03011489e-01 1.09823313e-02]\n",
      "10\n"
     ]
    }
   ],
   "source": [
    "from scipy import signal\n",
    "w = signal.blackmanharris(10)\n",
    "print(w)\n",
    "print(len(w))\n",
    "\n",
    "w2 = signal.blackmanharris(10, False)\n",
    "print(w2)\n",
    "print(len(w2))"
   ]
  },
  {
   "cell_type": "code",
   "execution_count": 5,
   "metadata": {},
   "outputs": [
    {
     "name": "stdout",
     "output_type": "stream",
     "text": [
      "[-4.21051000e-04 -2.01720315e-02 -7.01990421e-02  1.98210530e-01\n",
      "  8.62476344e-01  8.62476344e-01  1.98210530e-01 -7.01990421e-02\n",
      " -2.01720315e-02 -4.21051000e-04]\n",
      "10\n",
      "[-4.21051000e-04 -1.55972747e-02 -6.77142521e-02  5.45446482e-02\n",
      "  6.06872153e-01  1.00000000e+00  6.06872153e-01  5.45446482e-02\n",
      " -6.77142521e-02 -1.55972747e-02]\n",
      "10\n"
     ]
    }
   ],
   "source": [
    "from scipy import signal\n",
    "w = signal.flattop(10)\n",
    "print(w)\n",
    "print(len(w))\n",
    "\n",
    "w2 = signal.flattop(10, False)\n",
    "print(w2)\n",
    "print(len(w2))"
   ]
  },
  {
   "cell_type": "code",
   "execution_count": 6,
   "metadata": {},
   "outputs": [
    {
     "name": "stdout",
     "output_type": "stream",
     "text": [
      "[0.08       0.18761956 0.46012184 0.77       0.97225861 0.97225861\n",
      " 0.77       0.46012184 0.18761956 0.08      ]\n",
      "10\n",
      "[0.08       0.16785218 0.39785218 0.68214782 0.91214782 1.\n",
      " 0.91214782 0.68214782 0.39785218 0.16785218]\n",
      "10\n"
     ]
    }
   ],
   "source": [
    "from scipy import signal\n",
    "w = signal.hamming(10)\n",
    "print(w)\n",
    "print(len(w))\n",
    "\n",
    "w2 = signal.hamming(10, False)\n",
    "print(w2)\n",
    "print(len(w2))"
   ]
  },
  {
   "cell_type": "code",
   "execution_count": 7,
   "metadata": {},
   "outputs": [
    {
     "name": "stdout",
     "output_type": "stream",
     "text": [
      "[3.62800000e-04 1.78909987e-02 1.55596126e-01 5.29229800e-01\n",
      " 9.33220225e-01 9.33220225e-01 5.29229800e-01 1.55596126e-01\n",
      " 1.78909987e-02 3.62800000e-04]\n",
      "10\n",
      "[3.62800000e-04 1.33288369e-02 1.10515253e-01 3.95625913e-01\n",
      " 7.98258097e-01 1.00000000e+00 7.98258097e-01 3.95625913e-01\n",
      " 1.10515253e-01 1.33288369e-02]\n",
      "10\n"
     ]
    }
   ],
   "source": [
    "from scipy import signal\n",
    "w = signal.nuttall(10)\n",
    "print(w)\n",
    "print(len(w))\n",
    "\n",
    "w2 = signal.nuttall(10, False)\n",
    "print(w2)\n",
    "print(len(w2))"
   ]
  },
  {
   "cell_type": "code",
   "execution_count": 27,
   "metadata": {},
   "outputs": [
    {
     "name": "stdout",
     "output_type": "stream",
     "text": [
      "[[9801   99    1]\n",
      " [9801   99    1]\n",
      " [9801   99    1]]\n",
      "[[ 1 99 99]\n",
      " [ 1 99 99]\n",
      " [ 1 99 99]]\n",
      "[[99]\n",
      " [99]\n",
      " [99]]\n"
     ]
    },
    {
     "data": {
      "text/plain": [
       "array([[  99, 9801],\n",
       "       [  99, 9801],\n",
       "       [  99, 9801]])"
      ]
     },
     "execution_count": 27,
     "metadata": {},
     "output_type": "execute_result"
    }
   ],
   "source": [
    "from numpy.core.numeric import (\n",
    "    absolute, asanyarray, arange, zeros, greater_equal, multiply, ones,\n",
    "    asarray, where, int8, int16, int32, int64, empty, promote_types, diagonal,\n",
    "    nonzero\n",
    "    )\n",
    "\n",
    "x = asarray([99,99,99])\n",
    "N = len(x)\n",
    "v = empty((len(x), N), dtype=promote_types(x.dtype, int))\n",
    "\n",
    "print(v)\n",
    "\n",
    "tmp = v[:, ::-1]\n",
    "\n",
    "tmp[:, 1:] = x[:, None]\n",
    "\n",
    "print(tmp)\n",
    "print(x[:, None])\n",
    "\n",
    "multiply.accumulate(tmp[:, 1:], out=tmp[:, 1:], axis=1)"
   ]
  },
  {
   "cell_type": "code",
   "execution_count": 39,
   "metadata": {},
   "outputs": [
    {
     "name": "stdout",
     "output_type": "stream",
     "text": [
      "[[ 1  2  4]\n",
      " [ 1  4 16]\n",
      " [ 1  8 64]]\n",
      "[[ 4  2  1]\n",
      " [16  4  1]\n",
      " [64  8  1]]\n",
      "[[1 2]\n",
      " [1 4]\n",
      " [1 8]]\n",
      "[[2 1]\n",
      " [4 1]\n",
      " [8 1]]\n"
     ]
    }
   ],
   "source": [
    "from numpy.lib.twodim_base import vander\n",
    "print(vander([2,4,8], increasing = True))\n",
    "print(vander([2,4,8]))\n",
    "\n",
    "print(vander([2,4,8], N = 2, increasing = True))\n",
    "print(vander([2,4,8], N = 2))"
   ]
  },
  {
   "cell_type": "code",
   "execution_count": 53,
   "metadata": {},
   "outputs": [
    {
     "name": "stdout",
     "output_type": "stream",
     "text": [
      "[[ 4  2  1]\n",
      " [16  4  1]\n",
      " [64  8  1]]\n",
      "[[2]\n",
      " [2]\n",
      " [2]]\n"
     ]
    },
    {
     "data": {
      "text/plain": [
       "array([[  8,   4,   2],\n",
       "       [ 32,   8,   2],\n",
       "       [128,  16,   2]])"
      ]
     },
     "execution_count": 53,
     "metadata": {},
     "output_type": "execute_result"
    }
   ],
   "source": [
    "from numpy.lib.twodim_base import vander\n",
    "import numpy as np\n",
    "v = vander([2,4,8])\n",
    "w = asarray([2,2,2])\n",
    "print(v)\n",
    "print(w[:, np.newaxis])\n",
    "v * w[:, np.newaxis]"
   ]
  },
  {
   "cell_type": "code",
   "execution_count": 71,
   "metadata": {},
   "outputs": [
    {
     "name": "stdout",
     "output_type": "stream",
     "text": [
      "[[ 4  2  1]\n",
      " [16  4  1]\n",
      " [64  8  1]]\n",
      "[66.09084657  9.16515139  1.73205081]\n",
      "[[0.06052275 0.21821789 0.57735027]\n",
      " [0.24209101 0.43643578 0.57735027]\n",
      " [0.96836405 0.87287156 0.57735027]]\n"
     ]
    }
   ],
   "source": [
    "import numpy.core.numeric as NX\n",
    "import numpy as np\n",
    "\n",
    "lhs = vander([2,4,8])\n",
    "print(lhs)\n",
    "scale = NX.sqrt((lhs*lhs).sum(axis=0))\n",
    "print(scale)\n",
    "res = lhs / scale\n",
    "print(res)\n",
    "\n",
    "# a = np.array([[1,2,3],[1,2,3],[1,2,3]])\n",
    "# b = np.array([[1],[2],[3]])\n",
    "\n",
    "# print(a/b)"
   ]
  },
  {
   "cell_type": "code",
   "execution_count": 5,
   "metadata": {},
   "outputs": [
    {
     "name": "stdout",
     "output_type": "stream",
     "text": [
      "[[-0.06052275 -0.6022239  -0.79602975]\n",
      " [-0.24209101 -0.76482436  0.59702231]\n",
      " [-0.96836405  0.22884508 -0.09950372]]\n",
      "[[-66.09084657  -8.83632198  -1.27097782]\n",
      " [  0.          -2.43298457  -1.13820318]\n",
      " [  0.           0.          -0.29851116]]\n"
     ]
    }
   ],
   "source": [
    "import numpy as np\n",
    "\n",
    "a = np.array([[4, 2, 1], [16, 4, 1], [64, 8, 1]])\n",
    "# a = np.array(((\n",
    "#     (12, -51,   4),\n",
    "#     ( 6, 167, -68),\n",
    "#     (-4,  24, -41),\n",
    "# )))\n",
    "\n",
    "q, r = np.linalg.qr(a)\n",
    "print(q)\n",
    "print(r)\n",
    "\n",
    "# q:\n",
    "#  [[-0.857143  0.394286  0.331429]\n",
    "#  [-0.428571 -0.902857 -0.034286]\n",
    "#  [ 0.285714 -0.171429  0.942857]]\n",
    "# r:\n",
    "#  [[ -14.  -21.   14.]\n",
    "#  [   0. -175.   70.]\n",
    "#  [   0.    0.  -35.]]"
   ]
  },
  {
   "cell_type": "code",
   "execution_count": 5,
   "metadata": {},
   "outputs": [
    {
     "name": "stdout",
     "output_type": "stream",
     "text": [
      "[[1.     0.     0.    ]\n",
      " [0.25   1.     0.    ]\n",
      " [0.0625 0.75   1.    ]]\n",
      "[[64.     8.     1.   ]\n",
      " [ 0.     2.     0.75 ]\n",
      " [ 0.     0.     0.375]]\n",
      "[[0. 0. 1.]\n",
      " [0. 1. 0.]\n",
      " [1. 0. 0.]]\n"
     ]
    }
   ],
   "source": [
    "import scipy.linalg as la\n",
    "\n",
    "a = np.array([[4, 2, 1], [16, 4, 1], [64, 8, 1]])\n",
    "\n",
    "p, l, u = la.lu(a)\n",
    "print(l)\n",
    "print(u)\n",
    "print(p)"
   ]
  },
  {
   "cell_type": "code",
   "execution_count": 8,
   "metadata": {},
   "outputs": [
    {
     "name": "stdout",
     "output_type": "stream",
     "text": [
      "[2. 3.]\n",
      "[-5.33333333 -3.33333333  7.        ]\n"
     ]
    }
   ],
   "source": [
    "a = np.array([[3,1], [1,2]])\n",
    "b = np.array([9,8])\n",
    "x = np.linalg.solve(a, b)\n",
    "print(x)\n",
    "\n",
    "a = np.array([[1,2,3], [4,5,6], [7,8,10]])\n",
    "b = np.array([9,4,6])\n",
    "x = np.linalg.solve(a, b)\n",
    "print(x)"
   ]
  },
  {
   "cell_type": "code",
   "execution_count": 10,
   "metadata": {},
   "outputs": [
    {
     "name": "stdout",
     "output_type": "stream",
     "text": [
      "[[-0.66666667 -1.33333333  1.        ]\n",
      " [-0.66666667  3.66666667 -2.        ]\n",
      " [ 1.         -2.          1.        ]]\n"
     ]
    }
   ],
   "source": [
    "a = np.array([[1,2,3], [4,5,6], [7,8,10]])\n",
    "x = np.linalg.inv(a)\n",
    "print(x)"
   ]
  },
  {
   "cell_type": "code",
   "execution_count": 11,
   "metadata": {},
   "outputs": [
    {
     "name": "stdout",
     "output_type": "stream",
     "text": [
      "[[ 1  4  7]\n",
      " [ 2  5  8]\n",
      " [ 3  6 10]]\n"
     ]
    }
   ],
   "source": [
    "a = np.array([[1,2,3], [4,5,6], [7,8,10]])\n",
    "x = np.matrix.transpose(a)\n",
    "print(x)"
   ]
  },
  {
   "cell_type": "code",
   "execution_count": 23,
   "metadata": {},
   "outputs": [
    {
     "name": "stdout",
     "output_type": "stream",
     "text": [
      "[ 0.08703704 -0.81349206  1.69312169 -0.03968254]\n",
      "[1.62158198e-16 3.00000000e+00 2.00000000e+00 1.00000000e+00]\n"
     ]
    }
   ],
   "source": [
    "x = np.array([0.0, 1.0, 2.0, 3.0,  4.0,  5.0])\n",
    "y = np.array([0.0, 0.8, 0.9, 0.1, -0.8, -1.0])\n",
    "z = np.polyfit(x, y, 3)\n",
    "print(z)\n",
    "\n",
    "x = np.array([0.0, 1.0,  2.0,  3.0,  4.0,  5.0,   6.0,   7.0,   8.0,   9.0,  10.0]);\n",
    "y = np.array([1.0, 6.0, 17.0, 34.0, 57.0, 86.0, 121.0, 162.0, 209.0, 262.0, 321.0]);\n",
    "z = np.polyfit(x, y, 3)\n",
    "print(z)"
   ]
  },
  {
   "cell_type": "code",
   "execution_count": 22,
   "metadata": {},
   "outputs": [
    {
     "name": "stdout",
     "output_type": "stream",
     "text": [
      "[[-0.06370191 -0.63944931 -0.76618969]\n",
      " [-0.24598854 -0.73399958  0.63303575]\n",
      " [-0.96717718  0.22879947 -0.11054003]]\n",
      "[66.69193778  2.66694684  0.26986934]\n",
      "[[-0.99097382 -0.13268134 -0.01914576]\n",
      " [ 0.12800229 -0.89409402 -0.42919844]\n",
      " [-0.03982852  0.42777512 -0.90300727]]\n",
      "\n",
      "[[-0.15248323 -0.82264747 -0.39450102 -0.37995913]\n",
      " [-0.34991837 -0.42137529  0.24279655  0.80065588]\n",
      " [-0.54735351 -0.0201031   0.69790998 -0.46143436]\n",
      " [-0.74478865  0.38116908 -0.5462055   0.04073761]]\n",
      "[14.2690955   0.62682823]\n",
      "[[-0.64142303 -0.7671874 ]\n",
      " [ 0.7671874  -0.64142303]]\n"
     ]
    }
   ],
   "source": [
    "import numpy as np\n",
    "\n",
    "a = np.array([[4, 2, 1], [16, 4, 1], [64, 8, 1]])\n",
    "u, s, vh = np.linalg.svd(a, full_matrices=True)\n",
    "\n",
    "print(u)\n",
    "print(s)\n",
    "print(vh)\n",
    "\n",
    "a = np.array([[1, 2], [3, 4], [5, 6], [7, 8]])\n",
    "u, s, vh = np.linalg.svd(a, full_matrices=True)\n",
    "print()\n",
    "print(u)\n",
    "print(s)\n",
    "print(vh)"
   ]
  },
  {
   "cell_type": "code",
   "execution_count": 39,
   "metadata": {},
   "outputs": [
    {
     "name": "stdout",
     "output_type": "stream",
     "text": [
      "(4,)\n",
      "1\n",
      "[ 2 -2  0]\n",
      "[slice(1, None, None)]\n",
      "[slice(None, -1, None)]\n",
      "(slice(1, None, None),)\n",
      "(slice(None, -1, None),)\n",
      "[8 7 6]\n",
      "[9 8 7]\n",
      "2.0\n",
      "2.0\n"
     ]
    }
   ],
   "source": [
    "import numpy as np\n",
    "\n",
    "y = np.array([9,8,7,6])\n",
    "x = np.array([1,3,1,1])\n",
    "nd = y.ndim\n",
    "print(y.shape)\n",
    "print(len(y.shape))\n",
    "\n",
    "axis = -1\n",
    "dx = 1\n",
    "\n",
    "# d = dx\n",
    "d = np.diff(x)\n",
    "print(d)\n",
    "\n",
    "slice1 = [slice(None)]*nd\n",
    "slice2 = [slice(None)]*nd\n",
    "slice1[axis] = slice(1, None)\n",
    "slice2[axis] = slice(None, -1)\n",
    "\n",
    "print(slice1)\n",
    "print(slice2)\n",
    "\n",
    "print(tuple(slice1))\n",
    "print(tuple(slice2))\n",
    "\n",
    "print(y[tuple(slice1)])\n",
    "print(y[tuple(slice2)])\n",
    "\n",
    "print(np.trapz(y, x=x))\n",
    "\n",
    "ret = (d * (y[tuple(slice1)] + y[tuple(slice2)]) / 2.0).sum(axis)\n",
    "print(ret)\n",
    "\n"
   ]
  },
  {
   "cell_type": "code",
   "execution_count": 67,
   "metadata": {},
   "outputs": [
    {
     "name": "stdout",
     "output_type": "stream",
     "text": [
      "(slice(None, None, None),)\n",
      "(slice(0, 7, 2),)\n",
      "(slice(1, 8, 2),)\n",
      "(slice(2, 9, 2),)\n",
      "[9 7 5 3]\n",
      "[8 6 4 2]\n",
      "[7 5 3 1]\n",
      "(0,)\n",
      "(1,)\n"
     ]
    }
   ],
   "source": [
    "def tupleset(t, i, value):\n",
    "    l = list(t)\n",
    "    l[i] = value\n",
    "    return tuple(l)\n",
    "\n",
    "y = np.array([9,8,7,6,5,4,3,2,1])\n",
    "x = np.array([1,3,1,1])\n",
    "axis = -1\n",
    "dx = 1\n",
    "\n",
    "N = y.shape[axis]\n",
    "start = 0\n",
    "stop = N - 2\n",
    "step = 2\n",
    "\n",
    "nd = len(y.shape)\n",
    "if start is None:\n",
    "    start = 0\n",
    "step = 2\n",
    "slice_all = (slice(None),)*nd\n",
    "slice0 = tupleset(slice_all, axis, slice(start, stop, step))\n",
    "slice1 = tupleset(slice_all, axis, slice(start+1, stop+1, step))\n",
    "slice2 = tupleset(slice_all, axis, slice(start+2, stop+2, step))\n",
    "\n",
    "print(slice_all)\n",
    "print(slice0)\n",
    "print(slice1)\n",
    "print(slice2)\n",
    "\n",
    "print(y[slice0])\n",
    "print(y[slice1])\n",
    "print(y[slice2])\n",
    "\n",
    "def _basic_simps(y, start, stop, x, dx, axis):\n",
    "    nd = len(y.shape)\n",
    "    if start is None:\n",
    "        start = 0\n",
    "    step = 2\n",
    "    slice_all = (slice(None),)*nd\n",
    "    slice0 = tupleset(slice_all, axis, slice(start, stop, step))\n",
    "    slice1 = tupleset(slice_all, axis, slice(start+1, stop+1, step))\n",
    "    slice2 = tupleset(slice_all, axis, slice(start+2, stop+2, step))\n",
    "\n",
    "    if x is None:  # Even spaced Simpson's rule.\n",
    "        result = np.sum(dx/3.0 * (y[slice0]+4*y[slice1]+y[slice2]),\n",
    "                        axis=axis)\n",
    "    else:\n",
    "        # Account for possibly different spacings.\n",
    "        #    Simpson's rule changes a bit.\n",
    "        h = np.diff(x, axis=axis)\n",
    "        sl0 = tupleset(slice_all, axis, slice(start, stop, step))\n",
    "        sl1 = tupleset(slice_all, axis, slice(start+1, stop+1, step))\n",
    "        h0 = h[sl0]\n",
    "        h1 = h[sl1]\n",
    "        hsum = h0 + h1\n",
    "        hprod = h0 * h1\n",
    "        h0divh1 = h0 / h1\n",
    "        tmp = hsum/6.0 * (y[slice0]*(2-1.0/h0divh1) +\n",
    "                          y[slice1]*hsum*hsum/hprod +\n",
    "                          y[slice2]*(2-h0divh1))\n",
    "        result = np.sum(tmp, axis=axis)\n",
    "    return result"
   ]
  },
  {
   "cell_type": "code",
   "execution_count": 64,
   "metadata": {},
   "outputs": [
    {
     "name": "stdout",
     "output_type": "stream",
     "text": [
      "40.5\n",
      "40.5\n",
      "40.5\n",
      "32.0\n",
      "[0 1 2 3 4 5 6 7 8 9]\n",
      "32.0\n",
      "True\n"
     ]
    }
   ],
   "source": [
    "from scipy import integrate\n",
    "\n",
    "axis = -1\n",
    "dx = 1\n",
    "print(integrate.simps(y))\n",
    "\n",
    "x = np.arange(0, 10)\n",
    "y = np.arange(0, 10)\n",
    "\n",
    "N = y.shape[axis]\n",
    "start = 0\n",
    "stop = N - 2\n",
    "step = 2\n",
    "axis = -1\n",
    "dx = 1\n",
    "\n",
    "print(integrate.simps(y, x=x))\n",
    "print(integrate.trapz(y, x=x))\n",
    "\n",
    "print(_basic_simps(y, start, stop, x, dx, axis))\n",
    "\n",
    "x = np.asarray(x)\n",
    "if len(x.shape) == 1:\n",
    "    shapex = [1] * nd\n",
    "    shapex[axis] = x.shape[0]\n",
    "    saveshape = x.shape\n",
    "    returnshape = 1\n",
    "    x = x.reshape(tuple(shapex))\n",
    "print(x)\n",
    "\n",
    "print(_basic_simps(y, start, stop, x, dx, axis))\n",
    "\n",
    "print(N % 2 == 0)"
   ]
  },
  {
   "cell_type": "code",
   "execution_count": 79,
   "metadata": {},
   "outputs": [
    {
     "name": "stdout",
     "output_type": "stream",
     "text": [
      "[1. 2. 3.]\n",
      "(0,)\n",
      "(1,)\n",
      "1.0\n",
      "2.0\n",
      "(-1,)\n",
      "(-2,)\n",
      "3.0\n",
      "2.0\n",
      "[51. 52. 53.]\n"
     ]
    }
   ],
   "source": [
    "slice1 = (slice(None),)*nd\n",
    "slice2 = (slice(None),)*nd\n",
    "\n",
    "print(x)\n",
    "\n",
    "print(tupleset(slice1, axis, 0))\n",
    "print(tupleset(slice2, axis, 1))\n",
    "\n",
    "print(x[tuple(tupleset(slice1, axis, 0))])\n",
    "print(x[tuple(tupleset(slice1, axis, 1))])\n",
    "\n",
    "print(tupleset(slice1, axis, -1))\n",
    "print(tupleset(slice2, axis, -2))\n",
    "print(x[tuple(tupleset(slice1, axis, -1))])\n",
    "print(x[tuple(tupleset(slice2, axis, -2))])\n",
    "\n",
    "x = 0.0\n",
    "\n",
    "x += np.array([1,2,3])\n",
    "print(x + 50)"
   ]
  },
  {
   "cell_type": "code",
   "execution_count": null,
   "metadata": {},
   "outputs": [],
   "source": []
  }
 ],
 "metadata": {
  "kernelspec": {
   "display_name": "Python 3",
   "language": "python",
   "name": "python3"
  },
  "language_info": {
   "codemirror_mode": {
    "name": "ipython",
    "version": 3
   },
   "file_extension": ".py",
   "mimetype": "text/x-python",
   "name": "python",
   "nbconvert_exporter": "python",
   "pygments_lexer": "ipython3",
   "version": "3.7.3"
  }
 },
 "nbformat": 4,
 "nbformat_minor": 2
}
