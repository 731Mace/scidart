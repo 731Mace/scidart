{
 "cells": [
  {
   "cell_type": "markdown",
   "metadata": {},
   "source": [
    "FFT tests"
   ]
  },
  {
   "cell_type": "code",
   "execution_count": 2,
   "metadata": {},
   "outputs": [
    {
     "name": "stdout",
     "output_type": "stream",
     "text": [
      "[4.+0.j         1.-2.41421356j 0.-0.j         1.-0.41421356j\n",
      " 0.+0.j         1.+0.41421356j 0.+0.j         1.+2.41421356j]\n",
      "[1.00000000e+00+0.00000000e+00j 9.99999999e-01-5.55111512e-17j\n",
      " 1.00000000e+00+0.00000000e+00j 9.99999999e-01-5.55111512e-17j\n",
      " 0.00000000e+00+0.00000000e+00j 8.39015857e-10+5.55111512e-17j\n",
      " 0.00000000e+00+0.00000000e+00j 8.39015857e-10+5.55111512e-17j]\n",
      "[1.00000000e+00 9.99999999e-01 1.00000000e+00 9.99999999e-01\n",
      " 0.00000000e+00 8.39015857e-10 0.00000000e+00 8.39015857e-10]\n"
     ]
    }
   ],
   "source": [
    "from scipy.fftpack import fft, ifft\n",
    "print(fft([1.0, 1.0, 1.0, 1.0, 0.0, 0.0, 0.0, 0.0]))\n",
    "print(ifft([4.+0.j, 1.-2.41421356j, 0.-0.j, 1.-0.41421356j, 0.+0.j, 1.+0.41421356j, 0.+0.j, 1.+2.41421356j]))\n",
    "\n",
    "print(abs(ifft([4.+0.j, 1.-2.41421356j, 0.-0.j, 1.-0.41421356j, 0.+0.j, 1.+0.41421356j, 0.+0.j, 1.+2.41421356j])))"
   ]
  },
  {
   "cell_type": "markdown",
   "metadata": {},
   "source": [
    "Numpy tests"
   ]
  },
  {
   "cell_type": "code",
   "execution_count": 1,
   "metadata": {},
   "outputs": [
    {
     "name": "stdout",
     "output_type": "stream",
     "text": [
      "50\n",
      "50\n"
     ]
    },
    {
     "data": {
      "text/plain": [
       "array([0., 0., 0.])"
      ]
     },
     "execution_count": 1,
     "metadata": {},
     "output_type": "execute_result"
    }
   ],
   "source": [
    "import numpy as np\n",
    "n = np.linspace(1.2,3)\n",
    "print(len(n))\n",
    "n\n",
    "\n",
    "n = np.linspace(1.2,3, endpoint=False)\n",
    "print(len(n))\n",
    "n\n",
    "\n",
    "n = np.linspace(1.2,3, num=3)\n",
    "n\n",
    "\n",
    "n = np.linspace(1.2,3, num=3, endpoint=False)\n",
    "n\n",
    "\n",
    "np.zeros(3)"
   ]
  },
  {
   "cell_type": "markdown",
   "metadata": {},
   "source": [
    "Windowtests"
   ]
  },
  {
   "cell_type": "code",
   "execution_count": 8,
   "metadata": {},
   "outputs": [
    {
     "name": "stdout",
     "output_type": "stream",
     "text": [
      "[0.         0.11697778 0.41317591 0.75       0.96984631 0.96984631\n",
      " 0.75       0.41317591 0.11697778 0.        ]\n",
      "10\n",
      "[0.        0.0954915 0.3454915 0.6545085 0.9045085 1.        0.9045085\n",
      " 0.6545085 0.3454915 0.0954915]\n",
      "10\n"
     ]
    }
   ],
   "source": [
    "from scipy import signal\n",
    "w = signal.hann(10)\n",
    "print(w)\n",
    "print(len(w))\n",
    "\n",
    "w2 = signal.hann(10, False)\n",
    "print(w2)\n",
    "print(len(w2))"
   ]
  },
  {
   "cell_type": "code",
   "execution_count": 9,
   "metadata": {},
   "outputs": [
    {
     "name": "stdout",
     "output_type": "stream",
     "text": [
      "[1, 2]\n"
     ]
    }
   ],
   "source": [
    "w = [1,2,3]\n",
    "print(w[:-1])"
   ]
  },
  {
   "cell_type": "code",
   "execution_count": 11,
   "metadata": {},
   "outputs": [
    {
     "name": "stdout",
     "output_type": "stream",
     "text": [
      "[0.08       0.18761956 0.46012184 0.77       0.97225861 0.97225861\n",
      " 0.77       0.46012184 0.18761956 0.08      ]\n",
      "10\n",
      "[0.08       0.16785218 0.39785218 0.68214782 0.91214782 1.\n",
      " 0.91214782 0.68214782 0.39785218 0.16785218]\n",
      "10\n"
     ]
    }
   ],
   "source": [
    "from scipy import signal\n",
    "w = signal.hamming(10)\n",
    "print(w)\n",
    "print(len(w))\n",
    "\n",
    "w2 = signal.hamming(10, False)\n",
    "print(w2)\n",
    "print(len(w2))"
   ]
  },
  {
   "cell_type": "code",
   "execution_count": 1,
   "metadata": {},
   "outputs": [
    {
     "name": "stdout",
     "output_type": "stream",
     "text": [
      "[-1.38777878e-17  5.08696327e-02  2.58000502e-01  6.30000000e-01\n",
      "  9.51129866e-01  9.51129866e-01  6.30000000e-01  2.58000502e-01\n",
      "  5.08696327e-02 -1.38777878e-17]\n",
      "10\n",
      "[-1.38777878e-17  4.02128624e-02  2.00770143e-01  5.09787138e-01\n",
      "  8.49229857e-01  1.00000000e+00  8.49229857e-01  5.09787138e-01\n",
      "  2.00770143e-01  4.02128624e-02]\n",
      "10\n"
     ]
    }
   ],
   "source": [
    "from scipy import signal\n",
    "w = signal.blackman(10)\n",
    "print(w)\n",
    "print(len(w))\n",
    "\n",
    "w2 = signal.blackman(10, False)\n",
    "print(w2)\n",
    "print(len(w2))"
   ]
  },
  {
   "cell_type": "code",
   "execution_count": 3,
   "metadata": {},
   "outputs": [
    {
     "name": "stdout",
     "output_type": "stream",
     "text": [
      "[6.00000000e-05 1.50711734e-02 1.47039558e-01 5.20575000e-01\n",
      " 9.31659269e-01 9.31659269e-01 5.20575000e-01 1.47039558e-01\n",
      " 1.50711734e-02 6.00000000e-05]\n",
      "10\n",
      "[6.00000000e-05 1.09823313e-02 1.03011489e-01 3.85892669e-01\n",
      " 7.93833511e-01 1.00000000e+00 7.93833511e-01 3.85892669e-01\n",
      " 1.03011489e-01 1.09823313e-02]\n",
      "10\n"
     ]
    }
   ],
   "source": [
    "from scipy import signal\n",
    "w = signal.blackmanharris(10)\n",
    "print(w)\n",
    "print(len(w))\n",
    "\n",
    "w2 = signal.blackmanharris(10, False)\n",
    "print(w2)\n",
    "print(len(w2))"
   ]
  },
  {
   "cell_type": "code",
   "execution_count": 5,
   "metadata": {},
   "outputs": [
    {
     "name": "stdout",
     "output_type": "stream",
     "text": [
      "[-4.21051000e-04 -2.01720315e-02 -7.01990421e-02  1.98210530e-01\n",
      "  8.62476344e-01  8.62476344e-01  1.98210530e-01 -7.01990421e-02\n",
      " -2.01720315e-02 -4.21051000e-04]\n",
      "10\n",
      "[-4.21051000e-04 -1.55972747e-02 -6.77142521e-02  5.45446482e-02\n",
      "  6.06872153e-01  1.00000000e+00  6.06872153e-01  5.45446482e-02\n",
      " -6.77142521e-02 -1.55972747e-02]\n",
      "10\n"
     ]
    }
   ],
   "source": [
    "from scipy import signal\n",
    "w = signal.flattop(10)\n",
    "print(w)\n",
    "print(len(w))\n",
    "\n",
    "w2 = signal.flattop(10, False)\n",
    "print(w2)\n",
    "print(len(w2))"
   ]
  },
  {
   "cell_type": "code",
   "execution_count": 6,
   "metadata": {},
   "outputs": [
    {
     "name": "stdout",
     "output_type": "stream",
     "text": [
      "[0.08       0.18761956 0.46012184 0.77       0.97225861 0.97225861\n",
      " 0.77       0.46012184 0.18761956 0.08      ]\n",
      "10\n",
      "[0.08       0.16785218 0.39785218 0.68214782 0.91214782 1.\n",
      " 0.91214782 0.68214782 0.39785218 0.16785218]\n",
      "10\n"
     ]
    }
   ],
   "source": [
    "from scipy import signal\n",
    "w = signal.hamming(10)\n",
    "print(w)\n",
    "print(len(w))\n",
    "\n",
    "w2 = signal.hamming(10, False)\n",
    "print(w2)\n",
    "print(len(w2))"
   ]
  },
  {
   "cell_type": "code",
   "execution_count": 7,
   "metadata": {},
   "outputs": [
    {
     "name": "stdout",
     "output_type": "stream",
     "text": [
      "[3.62800000e-04 1.78909987e-02 1.55596126e-01 5.29229800e-01\n",
      " 9.33220225e-01 9.33220225e-01 5.29229800e-01 1.55596126e-01\n",
      " 1.78909987e-02 3.62800000e-04]\n",
      "10\n",
      "[3.62800000e-04 1.33288369e-02 1.10515253e-01 3.95625913e-01\n",
      " 7.98258097e-01 1.00000000e+00 7.98258097e-01 3.95625913e-01\n",
      " 1.10515253e-01 1.33288369e-02]\n",
      "10\n"
     ]
    }
   ],
   "source": [
    "from scipy import signal\n",
    "w = signal.nuttall(10)\n",
    "print(w)\n",
    "print(len(w))\n",
    "\n",
    "w2 = signal.nuttall(10, False)\n",
    "print(w2)\n",
    "print(len(w2))"
   ]
  },
  {
   "cell_type": "code",
   "execution_count": 27,
   "metadata": {},
   "outputs": [
    {
     "name": "stdout",
     "output_type": "stream",
     "text": [
      "[[9801   99    1]\n",
      " [9801   99    1]\n",
      " [9801   99    1]]\n",
      "[[ 1 99 99]\n",
      " [ 1 99 99]\n",
      " [ 1 99 99]]\n",
      "[[99]\n",
      " [99]\n",
      " [99]]\n"
     ]
    },
    {
     "data": {
      "text/plain": [
       "array([[  99, 9801],\n",
       "       [  99, 9801],\n",
       "       [  99, 9801]])"
      ]
     },
     "execution_count": 27,
     "metadata": {},
     "output_type": "execute_result"
    }
   ],
   "source": [
    "from numpy.core.numeric import (\n",
    "    absolute, asanyarray, arange, zeros, greater_equal, multiply, ones,\n",
    "    asarray, where, int8, int16, int32, int64, empty, promote_types, diagonal,\n",
    "    nonzero\n",
    "    )\n",
    "\n",
    "x = asarray([99,99,99])\n",
    "N = len(x)\n",
    "v = empty((len(x), N), dtype=promote_types(x.dtype, int))\n",
    "\n",
    "print(v)\n",
    "\n",
    "tmp = v[:, ::-1]\n",
    "\n",
    "tmp[:, 1:] = x[:, None]\n",
    "\n",
    "print(tmp)\n",
    "print(x[:, None])\n",
    "\n",
    "multiply.accumulate(tmp[:, 1:], out=tmp[:, 1:], axis=1)"
   ]
  },
  {
   "cell_type": "code",
   "execution_count": 39,
   "metadata": {},
   "outputs": [
    {
     "name": "stdout",
     "output_type": "stream",
     "text": [
      "[[ 1  2  4]\n",
      " [ 1  4 16]\n",
      " [ 1  8 64]]\n",
      "[[ 4  2  1]\n",
      " [16  4  1]\n",
      " [64  8  1]]\n",
      "[[1 2]\n",
      " [1 4]\n",
      " [1 8]]\n",
      "[[2 1]\n",
      " [4 1]\n",
      " [8 1]]\n"
     ]
    }
   ],
   "source": [
    "from numpy.lib.twodim_base import vander\n",
    "print(vander([2,4,8], increasing = True))\n",
    "print(vander([2,4,8]))\n",
    "\n",
    "print(vander([2,4,8], N = 2, increasing = True))\n",
    "print(vander([2,4,8], N = 2))"
   ]
  },
  {
   "cell_type": "code",
   "execution_count": 53,
   "metadata": {},
   "outputs": [
    {
     "name": "stdout",
     "output_type": "stream",
     "text": [
      "[[ 4  2  1]\n",
      " [16  4  1]\n",
      " [64  8  1]]\n",
      "[[2]\n",
      " [2]\n",
      " [2]]\n"
     ]
    },
    {
     "data": {
      "text/plain": [
       "array([[  8,   4,   2],\n",
       "       [ 32,   8,   2],\n",
       "       [128,  16,   2]])"
      ]
     },
     "execution_count": 53,
     "metadata": {},
     "output_type": "execute_result"
    }
   ],
   "source": [
    "from numpy.lib.twodim_base import vander\n",
    "import numpy as np\n",
    "v = vander([2,4,8])\n",
    "w = asarray([2,2,2])\n",
    "print(v)\n",
    "print(w[:, np.newaxis])\n",
    "v * w[:, np.newaxis]"
   ]
  },
  {
   "cell_type": "code",
   "execution_count": 71,
   "metadata": {},
   "outputs": [
    {
     "name": "stdout",
     "output_type": "stream",
     "text": [
      "[[ 4  2  1]\n",
      " [16  4  1]\n",
      " [64  8  1]]\n",
      "[66.09084657  9.16515139  1.73205081]\n",
      "[[0.06052275 0.21821789 0.57735027]\n",
      " [0.24209101 0.43643578 0.57735027]\n",
      " [0.96836405 0.87287156 0.57735027]]\n"
     ]
    }
   ],
   "source": [
    "import numpy.core.numeric as NX\n",
    "import numpy as np\n",
    "\n",
    "lhs = vander([2,4,8])\n",
    "print(lhs)\n",
    "scale = NX.sqrt((lhs*lhs).sum(axis=0))\n",
    "print(scale)\n",
    "res = lhs / scale\n",
    "print(res)\n",
    "\n",
    "# a = np.array([[1,2,3],[1,2,3],[1,2,3]])\n",
    "# b = np.array([[1],[2],[3]])\n",
    "\n",
    "# print(a/b)"
   ]
  },
  {
   "cell_type": "code",
   "execution_count": 5,
   "metadata": {},
   "outputs": [
    {
     "name": "stdout",
     "output_type": "stream",
     "text": [
      "[[-0.06052275 -0.6022239  -0.79602975]\n",
      " [-0.24209101 -0.76482436  0.59702231]\n",
      " [-0.96836405  0.22884508 -0.09950372]]\n",
      "[[-66.09084657  -8.83632198  -1.27097782]\n",
      " [  0.          -2.43298457  -1.13820318]\n",
      " [  0.           0.          -0.29851116]]\n"
     ]
    }
   ],
   "source": [
    "import numpy as np\n",
    "\n",
    "a = np.array([[4, 2, 1], [16, 4, 1], [64, 8, 1]])\n",
    "# a = np.array(((\n",
    "#     (12, -51,   4),\n",
    "#     ( 6, 167, -68),\n",
    "#     (-4,  24, -41),\n",
    "# )))\n",
    "\n",
    "q, r = np.linalg.qr(a)\n",
    "print(q)\n",
    "print(r)\n",
    "\n",
    "# q:\n",
    "#  [[-0.857143  0.394286  0.331429]\n",
    "#  [-0.428571 -0.902857 -0.034286]\n",
    "#  [ 0.285714 -0.171429  0.942857]]\n",
    "# r:\n",
    "#  [[ -14.  -21.   14.]\n",
    "#  [   0. -175.   70.]\n",
    "#  [   0.    0.  -35.]]"
   ]
  },
  {
   "cell_type": "code",
   "execution_count": 5,
   "metadata": {},
   "outputs": [
    {
     "name": "stdout",
     "output_type": "stream",
     "text": [
      "[[1.     0.     0.    ]\n",
      " [0.25   1.     0.    ]\n",
      " [0.0625 0.75   1.    ]]\n",
      "[[64.     8.     1.   ]\n",
      " [ 0.     2.     0.75 ]\n",
      " [ 0.     0.     0.375]]\n",
      "[[0. 0. 1.]\n",
      " [0. 1. 0.]\n",
      " [1. 0. 0.]]\n"
     ]
    }
   ],
   "source": [
    "import scipy.linalg as la\n",
    "\n",
    "a = np.array([[4, 2, 1], [16, 4, 1], [64, 8, 1]])\n",
    "\n",
    "p, l, u = la.lu(a)\n",
    "print(l)\n",
    "print(u)\n",
    "print(p)"
   ]
  },
  {
   "cell_type": "code",
   "execution_count": null,
   "metadata": {},
   "outputs": [],
   "source": []
  }
 ],
 "metadata": {
  "kernelspec": {
   "display_name": "Python 3",
   "language": "python",
   "name": "python3"
  },
  "language_info": {
   "codemirror_mode": {
    "name": "ipython",
    "version": 3
   },
   "file_extension": ".py",
   "mimetype": "text/x-python",
   "name": "python",
   "nbconvert_exporter": "python",
   "pygments_lexer": "ipython3",
   "version": "3.7.3"
  }
 },
 "nbformat": 4,
 "nbformat_minor": 2
}
